{
 "cells": [
  {
   "cell_type": "code",
   "execution_count": 10,
   "metadata": {},
   "outputs": [],
   "source": [
    "import numpy as np\n",
    "from math import sqrt\n",
    "\n",
    "# 构造样本\n",
    "X_train = np.array([[3.393533211, 2.331273381],\n",
    "                    [3.110073483, 1.781539638],\n",
    "                   [1.343853454, 3.368312451],\n",
    "                   [3.582294121, 4.679917921],\n",
    "                   [2.280362211, 2.866990212],\n",
    "                   [7.423436752, 4.685324231],\n",
    "                   [5.745231231, 3.532131321],\n",
    "                   [9.172112222, 2.511113104],\n",
    "                   [7.927841231, 3.421455345],\n",
    "                   [7.939831414, 0.791631213]])\n",
    "Y_train = [0, 0, 0, 0, 0, 1, 1, 1, 1, 1]\n",
    "\n",
    "# 计算距离\n",
    "X = [2, 2]\n",
    "distance = []\n",
    "for x_train in X_train:\n",
    "    d = sqrt(np.sum((x_train-X) ** 2))\n",
    "    distance.append(d)\n",
    "rank = np.argsort(distance)\n",
    "\n",
    "# 统计判断分类\n",
    "k = 6\n",
    "y_label = [Y_train[i] for i in rank[:k]]\n",
    "from collections import Counter\n",
    "votes = Counter(y_label)\n",
    "predict_y = votes.most_common(1)[0][0]"
   ]
  }
 ],
 "metadata": {
  "kernelspec": {
   "display_name": "Python 3",
   "language": "python",
   "name": "python3"
  },
  "language_info": {
   "codemirror_mode": {
    "name": "ipython",
    "version": 3
   },
   "file_extension": ".py",
   "mimetype": "text/x-python",
   "name": "python",
   "nbconvert_exporter": "python",
   "pygments_lexer": "ipython3",
   "version": "3.7.3"
  }
 },
 "nbformat": 4,
 "nbformat_minor": 2
}
